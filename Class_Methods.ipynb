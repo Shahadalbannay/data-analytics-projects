{
  "cells": [
    {
      "cell_type": "markdown",
      "metadata": {
        "id": "view-in-github",
        "colab_type": "text"
      },
      "source": [
        "<a href=\"https://colab.research.google.com/github/Shahadalbannay/data-analytics-projects/blob/main/Class_Methods.ipynb\" target=\"_parent\"><img src=\"https://colab.research.google.com/assets/colab-badge.svg\" alt=\"Open In Colab\"/></a>"
      ]
    },
    {
      "cell_type": "markdown",
      "metadata": {
        "id": "7lDUc7wtpgrp"
      },
      "source": [
        "# Class Methods\n",
        "\n",
        "As we have _Class Attributes_, we can also have _Class Methods_. Methods associated to a class:"
      ]
    },
    {
      "cell_type": "code",
      "execution_count": null,
      "metadata": {
        "id": "FkUlNrEdpgrs"
      },
      "outputs": [],
      "source": [
        "class Cookie(object):\n",
        "\n",
        "    @classmethod\n",
        "    def dummy_method(cls):\n",
        "        return \"Hello World\""
      ]
    },
    {
      "cell_type": "code",
      "execution_count": null,
      "metadata": {
        "colab": {
          "base_uri": "https://localhost:8080/",
          "height": 35
        },
        "id": "VssbBnuHpgrt",
        "outputId": "34c8367f-0f80-41f1-8b23-53a626c9cfe8"
      },
      "outputs": [
        {
          "output_type": "execute_result",
          "data": {
            "text/plain": [
              "'Hello World'"
            ],
            "application/vnd.google.colaboratory.intrinsic+json": {
              "type": "string"
            }
          },
          "metadata": {},
          "execution_count": 2
        }
      ],
      "source": [
        "Cookie.dummy_method()"
      ]
    },
    {
      "cell_type": "markdown",
      "metadata": {
        "id": "qS_263ntpgrv"
      },
      "source": [
        "Instances can still access class methods:"
      ]
    },
    {
      "cell_type": "code",
      "execution_count": null,
      "metadata": {
        "id": "0JC15c4cpgrv"
      },
      "outputs": [],
      "source": [
        "c1 = Cookie()"
      ]
    },
    {
      "cell_type": "code",
      "execution_count": null,
      "metadata": {
        "colab": {
          "base_uri": "https://localhost:8080/",
          "height": 35
        },
        "id": "7QKNVPz3pgrw",
        "outputId": "6f85c872-1858-4e5b-de02-d16d7310008c"
      },
      "outputs": [
        {
          "output_type": "execute_result",
          "data": {
            "text/plain": [
              "'Hello World'"
            ],
            "application/vnd.google.colaboratory.intrinsic+json": {
              "type": "string"
            }
          },
          "metadata": {},
          "execution_count": 4
        }
      ],
      "source": [
        "c1.dummy_method()"
      ]
    },
    {
      "cell_type": "markdown",
      "metadata": {
        "id": "HCFSWAEWpgrx"
      },
      "source": [
        "Usually, _Class Methods_ will access _Class Attributes_:"
      ]
    },
    {
      "cell_type": "code",
      "execution_count": null,
      "metadata": {
        "id": "nLP34zJ5pgrx"
      },
      "outputs": [],
      "source": [
        "class Cookie(object):\n",
        "    DEFAULT_SCARF_COLOR = 'green'\n",
        "\n",
        "    @classmethod\n",
        "    def get_scarf_color(cls):\n",
        "        return Cookie.DEFAULT_SCARF_COLOR  # Can also use `cls`"
      ]
    },
    {
      "cell_type": "code",
      "execution_count": null,
      "metadata": {
        "colab": {
          "base_uri": "https://localhost:8080/",
          "height": 35
        },
        "id": "HIwR4foypgry",
        "outputId": "9175e90e-22ae-43ac-dc3a-9a6aed84ff1f"
      },
      "outputs": [
        {
          "output_type": "execute_result",
          "data": {
            "text/plain": [
              "'green'"
            ],
            "application/vnd.google.colaboratory.intrinsic+json": {
              "type": "string"
            }
          },
          "metadata": {},
          "execution_count": 6
        }
      ],
      "source": [
        "Cookie.get_scarf_color()"
      ]
    },
    {
      "cell_type": "markdown",
      "metadata": {
        "id": "I3zW4sFLpgrz"
      },
      "source": [
        "_Class Methods_ can also modify _Class Attributes_:"
      ]
    },
    {
      "cell_type": "code",
      "execution_count": null,
      "metadata": {
        "id": "3fUKTGacpgrz"
      },
      "outputs": [],
      "source": [
        "import random\n",
        "\n",
        "class Cookie(object):\n",
        "    DEFAULT_SCARF_COLOR = 'green'\n",
        "    COLOR_OPTIONS = ['Blue', 'Red', 'Green', 'Yellow', 'Black']\n",
        "\n",
        "    @classmethod\n",
        "    def randomize_scarf_color(cls):\n",
        "\n",
        "        cls.DEFAULT_SCARF_COLOR = random.choice(cls.COLOR_OPTIONS)"
      ]
    },
    {
      "cell_type": "code",
      "execution_count": null,
      "metadata": {
        "colab": {
          "base_uri": "https://localhost:8080/",
          "height": 35
        },
        "id": "UFA4ZmZ5pgr0",
        "outputId": "bfee7991-c866-499e-e047-a4c7358d5c1d"
      },
      "outputs": [
        {
          "output_type": "execute_result",
          "data": {
            "text/plain": [
              "'green'"
            ],
            "application/vnd.google.colaboratory.intrinsic+json": {
              "type": "string"
            }
          },
          "metadata": {},
          "execution_count": 16
        }
      ],
      "source": [
        "Cookie.DEFAULT_SCARF_COLOR"
      ]
    },
    {
      "cell_type": "code",
      "source": [
        "Cookie.COLOR_OPTIONS"
      ],
      "metadata": {
        "colab": {
          "base_uri": "https://localhost:8080/"
        },
        "id": "C0rbGGowruUI",
        "outputId": "37ae746b-1bb0-4a19-932b-84aa1bc36867"
      },
      "execution_count": null,
      "outputs": [
        {
          "output_type": "execute_result",
          "data": {
            "text/plain": [
              "['Blue', 'Red', 'Green', 'Yellow', 'Black']"
            ]
          },
          "metadata": {},
          "execution_count": 20
        }
      ]
    },
    {
      "cell_type": "code",
      "execution_count": null,
      "metadata": {
        "colab": {
          "base_uri": "https://localhost:8080/"
        },
        "id": "6_7Hy2UApgr0",
        "outputId": "1703d1ea-19ed-447d-f953-92cea7f911c5"
      },
      "outputs": [
        {
          "output_type": "stream",
          "name": "stdout",
          "text": [
            "None\n"
          ]
        }
      ],
      "source": [
        "print(Cookie.randomize_scarf_color())"
      ]
    },
    {
      "cell_type": "code",
      "execution_count": null,
      "metadata": {
        "colab": {
          "base_uri": "https://localhost:8080/",
          "height": 35
        },
        "id": "8TNoDTeepgr1",
        "outputId": "257a9183-d3fc-4b5c-a217-b305152d94bb"
      },
      "outputs": [
        {
          "output_type": "execute_result",
          "data": {
            "text/plain": [
              "'Green'"
            ],
            "application/vnd.google.colaboratory.intrinsic+json": {
              "type": "string"
            }
          },
          "metadata": {},
          "execution_count": 18
        }
      ],
      "source": [
        "Cookie.DEFAULT_SCARF_COLOR"
      ]
    },
    {
      "cell_type": "markdown",
      "metadata": {
        "id": "0Nfaqoe6pgr1"
      },
      "source": [
        "### Example: Cookies ID and count"
      ]
    },
    {
      "cell_type": "code",
      "execution_count": null,
      "metadata": {
        "id": "V21szqpKpgr2"
      },
      "outputs": [],
      "source": [
        "class Cookie(object):\n",
        "    ID = 1\n",
        "\n",
        "    def __init__(self):\n",
        "        self.id = Cookie.ID\n",
        "        Cookie.ID += 1\n",
        "\n",
        "    @classmethod\n",
        "    def get_cookies_count(cls):\n",
        "        return Cookie.ID"
      ]
    },
    {
      "cell_type": "code",
      "execution_count": null,
      "metadata": {
        "id": "vEyEF5Nipgr2"
      },
      "outputs": [],
      "source": [
        "c1 = Cookie()\n",
        "c2 = Cookie()\n",
        "c3 = Cookie()"
      ]
    },
    {
      "cell_type": "code",
      "execution_count": null,
      "metadata": {
        "colab": {
          "base_uri": "https://localhost:8080/"
        },
        "id": "J4WH_Snbpgr2",
        "outputId": "07503273-361a-4e80-da79-3de6a281e964"
      },
      "outputs": [
        {
          "output_type": "execute_result",
          "data": {
            "text/plain": [
              "4"
            ]
          },
          "metadata": {},
          "execution_count": 23
        }
      ],
      "source": [
        "Cookie.get_cookies_count()"
      ]
    }
  ],
  "metadata": {
    "kernelspec": {
      "display_name": "Python 3",
      "language": "python",
      "name": "python3"
    },
    "language_info": {
      "codemirror_mode": {
        "name": "ipython",
        "version": 3
      },
      "file_extension": ".py",
      "mimetype": "text/x-python",
      "name": "python",
      "nbconvert_exporter": "python",
      "pygments_lexer": "ipython3",
      "version": "3.6.0"
    },
    "colab": {
      "provenance": [],
      "include_colab_link": true
    }
  },
  "nbformat": 4,
  "nbformat_minor": 0
}